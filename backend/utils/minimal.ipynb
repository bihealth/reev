{
 "cells": [
  {
   "cell_type": "code",
   "execution_count": null,
   "id": "e8ca7f65-77eb-4e13-a411-6c42aa3dbcb2",
   "metadata": {},
   "outputs": [],
   "source": [
    "from sqlalchemy import *\n",
    "from app import crud, models\n",
    "from app.db.session import SyncSessionLocal"
   ]
  },
  {
   "cell_type": "code",
   "execution_count": null,
   "id": "d2312e7d-3a55-45e6-8043-2fb8bb694b0c",
   "metadata": {},
   "outputs": [],
   "source": [
    "session = SyncSessionLocal()"
   ]
  },
  {
   "cell_type": "code",
   "execution_count": null,
   "id": "19adcf72-2151-4fb2-b797-9533958196ed",
   "metadata": {},
   "outputs": [],
   "source": [
    "user = session.execute(select(models.User)).scalars().unique().first()"
   ]
  },
  {
   "cell_type": "code",
   "execution_count": null,
   "id": "428f2a9f-730c-4d2b-8312-75c3ecaa1815",
   "metadata": {},
   "outputs": [],
   "source": [
    "user.email"
   ]
  },
  {
   "cell_type": "code",
   "execution_count": null,
   "id": "36024b87-c24c-4886-af67-81fee91d1e58",
   "metadata": {},
   "outputs": [],
   "source": []
  }
 ],
 "metadata": {
  "kernelspec": {
   "display_name": "Python 3 (ipykernel)",
   "language": "python",
   "name": "python3"
  },
  "language_info": {
   "codemirror_mode": {
    "name": "ipython",
    "version": 3
   },
   "file_extension": ".py",
   "mimetype": "text/x-python",
   "name": "python",
   "nbconvert_exporter": "python",
   "pygments_lexer": "ipython3",
   "version": "3.10.12"
  }
 },
 "nbformat": 4,
 "nbformat_minor": 5
}
